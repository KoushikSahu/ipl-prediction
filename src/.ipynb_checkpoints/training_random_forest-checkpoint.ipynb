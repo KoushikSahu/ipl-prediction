{
 "cells": [
  {
   "cell_type": "code",
   "execution_count": 1,
   "id": "billion-runner",
   "metadata": {},
   "outputs": [
    {
     "ename": "ModuleNotFoundError",
     "evalue": "No module named 'sklearn'",
     "output_type": "error",
     "traceback": [
      "\u001b[0;31m---------------------------------------------------------------------------\u001b[0m",
      "\u001b[0;31mModuleNotFoundError\u001b[0m                       Traceback (most recent call last)",
      "\u001b[0;32m<ipython-input-1-055fb711638c>\u001b[0m in \u001b[0;36m<module>\u001b[0;34m\u001b[0m\n\u001b[1;32m      8\u001b[0m \u001b[0;34m\u001b[0m\u001b[0m\n\u001b[1;32m      9\u001b[0m \u001b[0;31m# scikit learn model\u001b[0m\u001b[0;34m\u001b[0m\u001b[0;34m\u001b[0m\u001b[0;34m\u001b[0m\u001b[0m\n\u001b[0;32m---> 10\u001b[0;31m \u001b[0;32mimport\u001b[0m \u001b[0msklearn\u001b[0m\u001b[0;34m\u001b[0m\u001b[0;34m\u001b[0m\u001b[0m\n\u001b[0m\u001b[1;32m     11\u001b[0m \u001b[0;32mfrom\u001b[0m \u001b[0msklearn\u001b[0m \u001b[0;32mimport\u001b[0m \u001b[0msvm\u001b[0m\u001b[0;34m\u001b[0m\u001b[0;34m\u001b[0m\u001b[0m\n",
      "\u001b[0;31mModuleNotFoundError\u001b[0m: No module named 'sklearn'"
     ]
    }
   ],
   "source": [
    "# python imports\n",
    "from pathlib import Path\n",
    "import pickle\n",
    "\n",
    "# data science libraries\n",
    "import numpy as np\n",
    "import pandas as pd\n",
    "\n",
    "# scikit learn model\n",
    "import sklearn\n",
    "from sklearn import svm"
   ]
  },
  {
   "cell_type": "code",
   "execution_count": null,
   "id": "champion-moldova",
   "metadata": {},
   "outputs": [],
   "source": [
    "# configuration\n",
    "class config:\n",
    "    feature_cols = ['venue', 'batting_team', 'bowling_team', 'innings']\n",
    "    target_col = 'score'"
   ]
  },
  {
   "cell_type": "code",
   "execution_count": 2,
   "id": "illegal-reform",
   "metadata": {},
   "outputs": [],
   "source": [
    "# paths\n",
    "df_path = Path('../data/processed/train.csv')\n",
    "pkl_path = Path('../bin/objs/')"
   ]
  },
  {
   "cell_type": "code",
   "execution_count": 3,
   "id": "coral-performance",
   "metadata": {},
   "outputs": [
    {
     "data": {
      "text/html": [
       "<div>\n",
       "<style scoped>\n",
       "    .dataframe tbody tr th:only-of-type {\n",
       "        vertical-align: middle;\n",
       "    }\n",
       "\n",
       "    .dataframe tbody tr th {\n",
       "        vertical-align: top;\n",
       "    }\n",
       "\n",
       "    .dataframe thead th {\n",
       "        text-align: right;\n",
       "    }\n",
       "</style>\n",
       "<table border=\"1\" class=\"dataframe\">\n",
       "  <thead>\n",
       "    <tr style=\"text-align: right;\">\n",
       "      <th></th>\n",
       "      <th>venue</th>\n",
       "      <th>batting_team</th>\n",
       "      <th>bowling_team</th>\n",
       "      <th>innings</th>\n",
       "      <th>score</th>\n",
       "    </tr>\n",
       "  </thead>\n",
       "  <tbody>\n",
       "    <tr>\n",
       "      <th>0</th>\n",
       "      <td>14</td>\n",
       "      <td>0</td>\n",
       "      <td>5</td>\n",
       "      <td>2</td>\n",
       "      <td>42</td>\n",
       "    </tr>\n",
       "    <tr>\n",
       "      <th>1</th>\n",
       "      <td>14</td>\n",
       "      <td>5</td>\n",
       "      <td>0</td>\n",
       "      <td>1</td>\n",
       "      <td>39</td>\n",
       "    </tr>\n",
       "    <tr>\n",
       "      <th>2</th>\n",
       "      <td>9</td>\n",
       "      <td>2</td>\n",
       "      <td>3</td>\n",
       "      <td>1</td>\n",
       "      <td>45</td>\n",
       "    </tr>\n",
       "    <tr>\n",
       "      <th>3</th>\n",
       "      <td>9</td>\n",
       "      <td>3</td>\n",
       "      <td>2</td>\n",
       "      <td>2</td>\n",
       "      <td>73</td>\n",
       "    </tr>\n",
       "    <tr>\n",
       "      <th>4</th>\n",
       "      <td>3</td>\n",
       "      <td>4</td>\n",
       "      <td>7</td>\n",
       "      <td>2</td>\n",
       "      <td>67</td>\n",
       "    </tr>\n",
       "  </tbody>\n",
       "</table>\n",
       "</div>"
      ],
      "text/plain": [
       "   venue  batting_team  bowling_team  innings  score\n",
       "0     14             0             5        2     42\n",
       "1     14             5             0        1     39\n",
       "2      9             2             3        1     45\n",
       "3      9             3             2        2     73\n",
       "4      3             4             7        2     67"
      ]
     },
     "execution_count": 3,
     "metadata": {},
     "output_type": "execute_result"
    }
   ],
   "source": [
    "# reading data\n",
    "train_df = pd.read_csv(df_path)\n",
    "train_df.head()"
   ]
  },
  {
   "cell_type": "code",
   "execution_count": 5,
   "id": "extra-nevada",
   "metadata": {},
   "outputs": [],
   "source": [
    "X = train_df.loc[:, config.feature_cols].values\n",
    "y = train_df[config.target_col].values"
   ]
  },
  {
   "cell_type": "code",
   "execution_count": 6,
   "id": "willing-scanning",
   "metadata": {},
   "outputs": [
    {
     "data": {
      "text/plain": [
       "SVR()"
      ]
     },
     "execution_count": 6,
     "metadata": {},
     "output_type": "execute_result"
    }
   ],
   "source": [
    "regr = svm.SVR()\n",
    "regr.fit(X, y)"
   ]
  },
  {
   "cell_type": "code",
   "execution_count": 7,
   "id": "guided-worship",
   "metadata": {},
   "outputs": [],
   "source": [
    "with open(pkl_path/'venue_le.pkl', 'rb') as f:\n",
    "    venue_le = pickle.load(f)\n",
    "    \n",
    "with open(pkl_path/'team_le.pkl', 'rb') as f:\n",
    "    team_le = pickle.load(f)"
   ]
  },
  {
   "cell_type": "code",
   "execution_count": 8,
   "id": "surprising-quick",
   "metadata": {},
   "outputs": [
    {
     "data": {
      "text/plain": [
       "array(['Arun Jaitley Stadium',\n",
       "       'Dr. Y.S. Rajasekhara Reddy ACA-VDCA Cricket Stadium',\n",
       "       'Dubai International Cricket Stadium', 'Eden Gardens',\n",
       "       'Holkar Cricket Stadium', 'M.Chinnaswamy Stadium',\n",
       "       'MA Chidambaram Stadium',\n",
       "       'MA Chidambaram Stadium, Chepauk, Chennai',\n",
       "       'Maharashtra Cricket Association Stadium',\n",
       "       'Punjab Cricket Association IS Bindra Stadium',\n",
       "       'Rajiv Gandhi International Stadium', 'Sawai Mansingh Stadium',\n",
       "       'Sharjah Cricket Stadium', 'Sheikh Zayed Stadium',\n",
       "       'Wankhede Stadium', 'Wankhede Stadium, Mumbai'], dtype=object)"
      ]
     },
     "execution_count": 8,
     "metadata": {},
     "output_type": "execute_result"
    }
   ],
   "source": [
    "venue_le.classes_"
   ]
  },
  {
   "cell_type": "code",
   "execution_count": 9,
   "id": "coated-portfolio",
   "metadata": {},
   "outputs": [
    {
     "data": {
      "text/plain": [
       "array(['Chennai Super Kings', 'Delhi Capitals', 'Delhi Daredevils',\n",
       "       'Kings XI Punjab', 'Kolkata Knight Riders', 'Mumbai Indians',\n",
       "       'Rajasthan Royals', 'Royal Challengers Bangalore',\n",
       "       'Sunrisers Hyderabad'], dtype=object)"
      ]
     },
     "execution_count": 9,
     "metadata": {},
     "output_type": "execute_result"
    }
   ],
   "source": [
    "team_le.classes_"
   ]
  },
  {
   "cell_type": "code",
   "execution_count": 11,
   "id": "twenty-client",
   "metadata": {},
   "outputs": [
    {
     "data": {
      "text/plain": [
       "array([46.97545286])"
      ]
     },
     "execution_count": 11,
     "metadata": {},
     "output_type": "execute_result"
    }
   ],
   "source": [
    "regr.predict([[4, 1, 8, 1]])"
   ]
  },
  {
   "cell_type": "code",
   "execution_count": null,
   "id": "egyptian-richmond",
   "metadata": {},
   "outputs": [],
   "source": []
  }
 ],
 "metadata": {
  "kernelspec": {
   "display_name": "Python 3",
   "language": "python",
   "name": "python3"
  },
  "language_info": {
   "codemirror_mode": {
    "name": "ipython",
    "version": 3
   },
   "file_extension": ".py",
   "mimetype": "text/x-python",
   "name": "python",
   "nbconvert_exporter": "python",
   "pygments_lexer": "ipython3",
   "version": "3.8.5"
  }
 },
 "nbformat": 4,
 "nbformat_minor": 5
}

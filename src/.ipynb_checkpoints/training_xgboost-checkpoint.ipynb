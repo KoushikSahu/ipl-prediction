{
 "cells": [
  {
   "cell_type": "code",
   "execution_count": 1,
   "id": "billion-runner",
   "metadata": {},
   "outputs": [],
   "source": [
    "# python imports\n",
    "from pathlib import Path\n",
    "import pickle\n",
    "\n",
    "# data science libraries\n",
    "import numpy as np\n",
    "import pandas as pd\n",
    "\n",
    "# scikit learn model\n",
    "import sklearn\n",
    "from sklearn.ensemble import RandomForestRegressor"
   ]
  },
  {
   "cell_type": "code",
   "execution_count": 2,
   "id": "champion-moldova",
   "metadata": {},
   "outputs": [],
   "source": [
    "# configuration\n",
    "class config:\n",
    "    feature_cols = ['venue', 'batting_team', 'bowling_team', 'innings']\n",
    "    target_col = 'score'"
   ]
  },
  {
   "cell_type": "code",
   "execution_count": 3,
   "id": "illegal-reform",
   "metadata": {},
   "outputs": [],
   "source": [
    "# paths\n",
    "df_path = Path('../data/processed/train.csv')\n",
    "pkl_path = Path('../bin/objs/')"
   ]
  },
  {
   "cell_type": "code",
   "execution_count": 4,
   "id": "coral-performance",
   "metadata": {},
   "outputs": [
    {
     "data": {
      "text/html": [
       "<div>\n",
       "<style scoped>\n",
       "    .dataframe tbody tr th:only-of-type {\n",
       "        vertical-align: middle;\n",
       "    }\n",
       "\n",
       "    .dataframe tbody tr th {\n",
       "        vertical-align: top;\n",
       "    }\n",
       "\n",
       "    .dataframe thead th {\n",
       "        text-align: right;\n",
       "    }\n",
       "</style>\n",
       "<table border=\"1\" class=\"dataframe\">\n",
       "  <thead>\n",
       "    <tr style=\"text-align: right;\">\n",
       "      <th></th>\n",
       "      <th>venue</th>\n",
       "      <th>batting_team</th>\n",
       "      <th>bowling_team</th>\n",
       "      <th>innings</th>\n",
       "      <th>score</th>\n",
       "    </tr>\n",
       "  </thead>\n",
       "  <tbody>\n",
       "    <tr>\n",
       "      <th>0</th>\n",
       "      <td>15</td>\n",
       "      <td>9</td>\n",
       "      <td>10</td>\n",
       "      <td>2</td>\n",
       "      <td>54</td>\n",
       "    </tr>\n",
       "    <tr>\n",
       "      <th>1</th>\n",
       "      <td>15</td>\n",
       "      <td>10</td>\n",
       "      <td>9</td>\n",
       "      <td>1</td>\n",
       "      <td>59</td>\n",
       "    </tr>\n",
       "    <tr>\n",
       "      <th>2</th>\n",
       "      <td>11</td>\n",
       "      <td>6</td>\n",
       "      <td>8</td>\n",
       "      <td>1</td>\n",
       "      <td>61</td>\n",
       "    </tr>\n",
       "    <tr>\n",
       "      <th>3</th>\n",
       "      <td>11</td>\n",
       "      <td>8</td>\n",
       "      <td>6</td>\n",
       "      <td>2</td>\n",
       "      <td>59</td>\n",
       "    </tr>\n",
       "    <tr>\n",
       "      <th>4</th>\n",
       "      <td>16</td>\n",
       "      <td>3</td>\n",
       "      <td>5</td>\n",
       "      <td>1</td>\n",
       "      <td>52</td>\n",
       "    </tr>\n",
       "  </tbody>\n",
       "</table>\n",
       "</div>"
      ],
      "text/plain": [
       "   venue  batting_team  bowling_team  innings  score\n",
       "0     15             9            10        2     54\n",
       "1     15            10             9        1     59\n",
       "2     11             6             8        1     61\n",
       "3     11             8             6        2     59\n",
       "4     16             3             5        1     52"
      ]
     },
     "execution_count": 4,
     "metadata": {},
     "output_type": "execute_result"
    }
   ],
   "source": [
    "# reading data\n",
    "train_df = pd.read_csv(df_path)\n",
    "train_df.head()"
   ]
  },
  {
   "cell_type": "code",
   "execution_count": 5,
   "id": "extra-nevada",
   "metadata": {},
   "outputs": [],
   "source": [
    "X = train_df.loc[:, config.feature_cols].values\n",
    "y = train_df[config.target_col].values"
   ]
  },
  {
   "cell_type": "code",
   "execution_count": 6,
   "id": "willing-scanning",
   "metadata": {},
   "outputs": [
    {
     "data": {
      "text/plain": [
       "RandomForestRegressor()"
      ]
     },
     "execution_count": 6,
     "metadata": {},
     "output_type": "execute_result"
    }
   ],
   "source": [
    "regr = RandomForestRegressor()\n",
    "regr.fit(X, y)"
   ]
  },
  {
   "cell_type": "code",
   "execution_count": 7,
   "id": "guided-worship",
   "metadata": {},
   "outputs": [],
   "source": [
    "with open(pkl_path/'venue_le.pkl', 'rb') as f:\n",
    "    venue_le = pickle.load(f)\n",
    "    \n",
    "with open(pkl_path/'team_le.pkl', 'rb') as f:\n",
    "    team_le = pickle.load(f)"
   ]
  },
  {
   "cell_type": "code",
   "execution_count": 8,
   "id": "surprising-quick",
   "metadata": {},
   "outputs": [
    {
     "data": {
      "text/plain": [
       "array(['Arun Jaitley Stadium',\n",
       "       'Dr. Y.S. Rajasekhara Reddy ACA-VDCA Cricket Stadium',\n",
       "       'Dubai International Cricket Stadium', 'Eden Gardens',\n",
       "       'Feroz Shah Kotla', 'Green Park', 'Holkar Cricket Stadium',\n",
       "       'M Chinnaswamy Stadium', 'M.Chinnaswamy Stadium',\n",
       "       'MA Chidambaram Stadium',\n",
       "       'MA Chidambaram Stadium, Chepauk, Chennai',\n",
       "       'Maharashtra Cricket Association Stadium',\n",
       "       'Punjab Cricket Association IS Bindra Stadium',\n",
       "       'Punjab Cricket Association IS Bindra Stadium, Mohali',\n",
       "       'Rajiv Gandhi International Stadium',\n",
       "       'Rajiv Gandhi International Stadium, Uppal',\n",
       "       'Saurashtra Cricket Association Stadium', 'Sawai Mansingh Stadium',\n",
       "       'Sharjah Cricket Stadium', 'Sheikh Zayed Stadium',\n",
       "       'Wankhede Stadium', 'Wankhede Stadium, Mumbai'], dtype=object)"
      ]
     },
     "execution_count": 8,
     "metadata": {},
     "output_type": "execute_result"
    }
   ],
   "source": [
    "venue_le.classes_"
   ]
  },
  {
   "cell_type": "code",
   "execution_count": 9,
   "id": "coated-portfolio",
   "metadata": {},
   "outputs": [
    {
     "data": {
      "text/plain": [
       "array(['Chennai Super Kings', 'Delhi Capitals', 'Delhi Daredevils',\n",
       "       'Gujarat Lions', 'Kings XI Punjab', 'Kolkata Knight Riders',\n",
       "       'Mumbai Indians', 'Rajasthan Royals', 'Rising Pune Supergiant',\n",
       "       'Royal Challengers Bangalore', 'Sunrisers Hyderabad'], dtype=object)"
      ]
     },
     "execution_count": 9,
     "metadata": {},
     "output_type": "execute_result"
    }
   ],
   "source": [
    "team_le.classes_"
   ]
  },
  {
   "cell_type": "code",
   "execution_count": 12,
   "id": "twenty-client",
   "metadata": {},
   "outputs": [
    {
     "data": {
      "text/plain": [
       "array([44.48166667])"
      ]
     },
     "execution_count": 12,
     "metadata": {},
     "output_type": "execute_result"
    }
   ],
   "source": [
    "regr.predict([[14, 4, 5, 1]])"
   ]
  },
  {
   "cell_type": "code",
   "execution_count": null,
   "id": "egyptian-richmond",
   "metadata": {},
   "outputs": [],
   "source": []
  }
 ],
 "metadata": {
  "kernelspec": {
   "display_name": "Python 3",
   "language": "python",
   "name": "python3"
  },
  "language_info": {
   "codemirror_mode": {
    "name": "ipython",
    "version": 3
   },
   "file_extension": ".py",
   "mimetype": "text/x-python",
   "name": "python",
   "nbconvert_exporter": "python",
   "pygments_lexer": "ipython3",
   "version": "3.8.8"
  }
 },
 "nbformat": 4,
 "nbformat_minor": 5
}

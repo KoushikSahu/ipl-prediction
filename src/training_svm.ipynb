{
 "cells": [
  {
   "cell_type": "code",
   "execution_count": null,
   "id": "billion-runner",
   "metadata": {},
   "outputs": [],
   "source": [
    "# python imports\n",
    "from pathlib import Path\n",
    "import pickle\n",
    "\n",
    "# data science libraries\n",
    "import numpy as np\n",
    "import pandas as pd\n",
    "\n",
    "# scikit learn model\n",
    "import sklearn\n",
    "from sklearn import svm"
   ]
  },
  {
   "cell_type": "code",
   "execution_count": null,
   "id": "champion-moldova",
   "metadata": {},
   "outputs": [],
   "source": [
    "# configuration\n",
    "class config:\n",
    "    feature_cols = ['venue', 'batting_team', 'bowling_team', 'innings']\n",
    "    target_col = 'score'"
   ]
  },
  {
   "cell_type": "code",
   "execution_count": null,
   "id": "illegal-reform",
   "metadata": {},
   "outputs": [],
   "source": [
    "# paths\n",
    "df_path = Path('../data/processed/train.csv')\n",
    "pkl_path = Path('../bin/objs/')\n",
    "mdl_path = Path('../bin/models/')"
   ]
  },
  {
   "cell_type": "code",
   "execution_count": null,
   "id": "coral-performance",
   "metadata": {},
   "outputs": [],
   "source": [
    "# reading data\n",
    "train_df = pd.read_csv(df_path)\n",
    "train_df.head()"
   ]
  },
  {
   "cell_type": "code",
   "execution_count": null,
   "id": "extra-nevada",
   "metadata": {},
   "outputs": [],
   "source": [
    "X = train_df.loc[:, config.feature_cols].values\n",
    "y = train_df[config.target_col].values"
   ]
  },
  {
   "cell_type": "code",
   "execution_count": null,
   "id": "willing-scanning",
   "metadata": {},
   "outputs": [],
   "source": [
    "regr = svm.SVR()\n",
    "regr.fit(X, y)"
   ]
  },
  {
   "cell_type": "code",
   "execution_count": null,
   "id": "guided-worship",
   "metadata": {},
   "outputs": [],
   "source": [
    "with open(pkl_path/'venue_le.pkl', 'rb') as f:\n",
    "    venue_le = pickle.load(f)\n",
    "    \n",
    "with open(pkl_path/'team_le.pkl', 'rb') as f:\n",
    "    team_le = pickle.load(f)"
   ]
  },
  {
   "cell_type": "code",
   "execution_count": null,
   "id": "surprising-quick",
   "metadata": {},
   "outputs": [],
   "source": [
    "venue_le.classes_"
   ]
  },
  {
   "cell_type": "code",
   "execution_count": null,
   "id": "coated-portfolio",
   "metadata": {},
   "outputs": [],
   "source": [
    "team_le.classes_"
   ]
  },
  {
   "cell_type": "code",
   "execution_count": null,
   "id": "twenty-client",
   "metadata": {},
   "outputs": [],
   "source": [
    "regr.predict([[14, 4, 5, 1]])"
   ]
  },
  {
   "cell_type": "code",
   "execution_count": null,
   "id": "egyptian-richmond",
   "metadata": {},
   "outputs": [],
   "source": [
    "with open(mdl_path/'svm.pkl', 'wb') as f:\n",
    "    pickle.dump(regr, f)"
   ]
  }
 ],
 "metadata": {
  "kernelspec": {
   "display_name": "Python 3",
   "language": "python",
   "name": "python3"
  },
  "language_info": {
   "codemirror_mode": {
    "name": "ipython",
    "version": 3
   },
   "file_extension": ".py",
   "mimetype": "text/x-python",
   "name": "python",
   "nbconvert_exporter": "python",
   "pygments_lexer": "ipython3",
   "version": "3.8.8"
  }
 },
 "nbformat": 4,
 "nbformat_minor": 5
}
